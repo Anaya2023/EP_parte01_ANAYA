{
 "cells": [
  {
   "cell_type": "code",
   "execution_count": null,
   "id": "355b7629",
   "metadata": {},
   "outputs": [],
   "source": [
    "TAM = 3\n",
    "num = [0.] * TAM\n",
    "\n",
    "for i in range(TAM):\n",
    "    num[i] = float(input())\n",
    "\n",
    "for i in range(TAM-1):\n",
    "    for j in range(i+1,TAM):\n",
    "        if(num[i] > num[j]):\n",
    "            cambio = num[i]\n",
    "            num[i] = num[j]\n",
    "            num[j] = cambio \n",
    "            \n",
    "print (\"\\n\")\n",
    "print (\"DATOS DE SALIDA\")\n",
    "\n",
    "for i in range(TAM):\n",
    "    print(num[i])\n",
    "    \n",
    "    "
   ]
  }
 ],
 "metadata": {
  "kernelspec": {
   "display_name": "Python 3 (ipykernel)",
   "language": "python",
   "name": "python3"
  },
  "language_info": {
   "codemirror_mode": {
    "name": "ipython",
    "version": 3
   },
   "file_extension": ".py",
   "mimetype": "text/x-python",
   "name": "python",
   "nbconvert_exporter": "python",
   "pygments_lexer": "ipython3",
   "version": "3.9.12"
  }
 },
 "nbformat": 4,
 "nbformat_minor": 5
}
