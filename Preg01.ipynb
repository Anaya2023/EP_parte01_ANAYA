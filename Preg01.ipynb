{
 "cells": [
  {
   "cell_type": "code",
   "execution_count": null,
   "id": "07c82c12",
   "metadata": {},
   "outputs": [],
   "source": [
    "horas_principal = int(input(\"Ingrese el número de horas de estacionamiento: \"))\n",
    "\n",
    "precio_final = 0\n",
    "\n",
    "\n",
    "if horas_principal <= 4:\n",
    "\n",
    "    precio_final = 6\n",
    "\n",
    "else:\n",
    "\n",
    "    precio_final = 6 + (horas_principal - 4) * 2\n",
    "\n",
    "\n",
    "print(\"El precio total a pagar es de: s/.\", precio_final)"
   ]
  }
 ],
 "metadata": {
  "kernelspec": {
   "display_name": "Python 3 (ipykernel)",
   "language": "python",
   "name": "python3"
  },
  "language_info": {
   "codemirror_mode": {
    "name": "ipython",
    "version": 3
   },
   "file_extension": ".py",
   "mimetype": "text/x-python",
   "name": "python",
   "nbconvert_exporter": "python",
   "pygments_lexer": "ipython3",
   "version": "3.9.12"
  }
 },
 "nbformat": 4,
 "nbformat_minor": 5
}
